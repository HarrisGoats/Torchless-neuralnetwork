{
 "cells": [
  {
   "cell_type": "code",
   "execution_count": 1,
   "metadata": {},
   "outputs": [],
   "source": [
    "import numpy as np\n",
    "import gzip\n",
    "import matplotlib.pyplot as plt"
   ]
  },
  {
   "cell_type": "code",
   "execution_count": 2,
   "metadata": {},
   "outputs": [
    {
     "name": "stdout",
     "output_type": "stream",
     "text": [
      "[0]\n"
     ]
    }
   ],
   "source": [
    "#all of this just opens the image data so it can be put in the network, the details are irrelivent \n",
    "f1= gzip.open('train-images-idx3-ubyte.gz','r')\n",
    "image_size = 28\n",
    "num_images = 60000\n",
    "\n",
    "f1.read(4)\n",
    "num_images= int.from_bytes(f1.read(4), 'big')\n",
    "f1.read(8)\n",
    "buf = f1.read(image_size * image_size * num_images)\n",
    "training_data = np.frombuffer(buf, dtype=np.uint8).astype(np.float32)\n",
    "training_data = training_data.reshape(num_images, image_size, image_size, 1)\n",
    "\n",
    "\n",
    "\n",
    "f2 = gzip.open('train-labels-idx1-ubyte.gz','r')\n",
    "f2.read(4)\n",
    "buf = f2.read(num_images)\n",
    "training_labels = np.frombuffer(buf, dtype=np.uint8).astype(np.int64)\n",
    "training_labels = training_labels.reshape(num_images, 1)\n",
    "print(training_labels[0])\n",
    "\n",
    "\n",
    "f3= gzip.open('./data/MNIST/raw/t10k-images-idx3-ubyte.gz','r')\n",
    "image_size = 28\n",
    "num_images = 60000\n",
    "\n",
    "f3.read(4)\n",
    "num_images= int.from_bytes(f3.read(4), 'big')\n",
    "f3.read(8)\n",
    "buf = f3.read(image_size * image_size * num_images)\n",
    "testing_data = np.frombuffer(buf, dtype=np.uint8).astype(np.float32)\n",
    "testing_data = testing_data.reshape(num_images, image_size, image_size, 1)\n",
    "\n",
    "\n",
    "\n",
    "\n",
    "f4 = gzip.open('./data/MNIST/raw/t10k-labels-idx1-ubyte.gz','r')\n",
    "f4.read(4)\n",
    "buf = f4.read(num_images)\n",
    "testing_labels = np.frombuffer(buf, dtype=np.uint8).astype(np.int64)\n",
    "testing_labels = testing_labels.reshape(num_images, 1)\n",
    "\n",
    "#opening the data and labels\n",
    "\n"
   ]
  },
  {
   "cell_type": "code",
   "execution_count": 36,
   "metadata": {},
   "outputs": [],
   "source": [
    "class neuralnetwork():\n",
    "    \n",
    "    #layers is array because i say so\n",
    "    def __init__(self, layers, learning_rate, batch_size, epoc):\n",
    "        self.layers_list=layers\n",
    "        self.layers_list=self.init_layers(layers)\n",
    "        self.learning_rate=learning_rate\n",
    "        self.batch_size=batch_size\n",
    "        self.epoc=epoc\n",
    "        \n",
    "    #sigmoid function for non linear layers\n",
    "    def sigmoid(self, array):\n",
    "        array=1/(1+np.exp(array*-1))\n",
    "        return array\n",
    "    \n",
    "    def delta_sigmoid(self, array):\n",
    "        array = (np.exp(array))/(np.exp(array)+1)**2\n",
    "        return array\n",
    "        \n",
    "    #creates list of layers\n",
    "    def init_layers(self, layers):\n",
    "        self.total =np.zeros((len(layers)-1,2))\n",
    "        self.total=self.total.tolist()\n",
    "        for i in range(len(layers)):\n",
    "            if(i==len(layers)-1):\n",
    "                break\n",
    "            layer=np.random.rand(layers[i+1], layers[i]) *.01\n",
    "            b=np.zeros((layers[i+1],1))\n",
    "            #adds m and b to the total array\n",
    "            self.total[i][0]=layer\n",
    "            self.total[i][1]=b\n",
    "            self.total=np.array(self.total)\n",
    "            #print(self.total)\n",
    "        return(self.total)\n",
    "    \n",
    "    #two foreward prop functions serve slightly different purposes\n",
    "    #this one only stores final array after going through network\n",
    "    def foreward_prop(self, image, layers):\n",
    "        x=image\n",
    "        for i, [m,b] in enumerate(layers):\n",
    "            x=np.add((m@x),b)\n",
    "            if(i!=len(layers)-1):\n",
    "                x=self.sigmoid(x)\n",
    "        return x\n",
    "    \n",
    "    #stores and returns all layers of the network, gets a\n",
    "    def foreward_prop2(self, image, layers):\n",
    "        total=[]\n",
    "        x=image\n",
    "        total.append(x)\n",
    "        for i, [m,b] in enumerate(layers):\n",
    "            x=np.add((m@x),b)\n",
    "            if(i!=len(layers)-1):\n",
    "                x=self.sigmoid(x)\n",
    "            total.append(x)\n",
    "        total=np.asarray(total)\n",
    "        return total\n",
    "    \n",
    "    #same as before but no sigmoid for backprop, gets z\n",
    "    def foreward_prop3(self, image, layers):\n",
    "        total=[]\n",
    "        x=image\n",
    "        total.append(x)\n",
    "        for i, [m,b] in enumerate(layers):\n",
    "            x=np.add((m@x),b)\n",
    "            #if(i!=len(layers)-1):\n",
    "                #x=self.sigmoid(x)\n",
    "            total.append(x)\n",
    "        total=np.asarray(total)\n",
    "        return total\n",
    "    \n",
    "    #cost function, finds the cost of the output\n",
    "    def cost(self, final, label):\n",
    "        cost=0\n",
    "        for i, [x] in enumerate(final):\n",
    "            if(i==label[0]):\n",
    "                cost+=(x-1)**2\n",
    "            else:\n",
    "                cost+=(x)**2\n",
    "        cost*=(1/len(final))\n",
    "        return cost\n",
    "    \n",
    "    def cost_list(self, final, label):\n",
    "        cost_arr = np.array(len(final))\n",
    "        for i, [x] in enumerate(final):\n",
    "            if(i==label[0]):\n",
    "                cost_arr[i]+=(x-1)**2\n",
    "            else:\n",
    "                cost_arr[i]+=(x)**2\n",
    "        return cost_arr\n",
    "    \n",
    "    #back propagation function\n",
    "    # costs is costs vector\n",
    "    def back_prop(self, costs, a, z, layers, rate):\n",
    "        values = np.zeros_like(layers)\n",
    "        \n",
    "        \n",
    "        \n",
    "    \n",
    "\n"
   ]
  },
  {
   "cell_type": "code",
   "execution_count": 38,
   "metadata": {},
   "outputs": [
    {
     "name": "stdout",
     "output_type": "stream",
     "text": [
      "[[0.95609503]\n",
      " [0.93775453]\n",
      " [0.98765691]\n",
      " [0.94583357]\n",
      " [0.95619052]\n",
      " [0.99488972]\n",
      " [0.99641127]\n",
      " [0.92908754]\n",
      " [1.01144161]\n",
      " [1.01311655]]\n",
      "[0]\n",
      "0.8560942731432726\n"
     ]
    }
   ],
   "source": [
    "net=neuralnetwork([728,256,256,10],1,1,1)\n",
    "layers = net.init_layers([784,256,256,10])\n",
    "#print(layers)\n",
    "#net.foreward_prop(0,layers)\n",
    "test = training_data[0]\n",
    "test=test.reshape(784,1)\n",
    "test = net.foreward_prop(test,layers)\n",
    "print(test)\n",
    "print(training_labels[0])\n",
    "cost=net.cost(test,training_labels[0])\n",
    "print(cost)"
   ]
  },
  {
   "cell_type": "code",
   "execution_count": 39,
   "metadata": {},
   "outputs": [
    {
     "name": "stdout",
     "output_type": "stream",
     "text": [
      "60000\n"
     ]
    },
    {
     "data": {
      "text/plain": [
       "'arr= np.array([[1, 0, 0, 0],[0,1,0,0],[0,0,1,0],[0,0,0,1]])\\narr2 = np.array([[1],[1],[1],[1]])\\narr3 = np.array([[1],[2],[3],[4]])\\narr4=(arr@arr2)+arr3\\nprint(arr4)\\narr4=1/(1+np.exp(arr4*-1))\\nprint(arr4)\\n'"
      ]
     },
     "execution_count": 39,
     "metadata": {},
     "output_type": "execute_result"
    }
   ],
   "source": [
    "print(len(training_data))\n",
    "'''arr= np.array([[1, 0, 0, 0],[0,1,0,0],[0,0,1,0],[0,0,0,1]])\n",
    "arr2 = np.array([[1],[1],[1],[1]])\n",
    "arr3 = np.array([[1],[2],[3],[4]])\n",
    "arr4=(arr@arr2)+arr3\n",
    "print(arr4)\n",
    "arr4=1/(1+np.exp(arr4*-1))\n",
    "print(arr4)\n",
    "'''"
   ]
  },
  {
   "cell_type": "code",
   "execution_count": null,
   "metadata": {},
   "outputs": [],
   "source": []
  }
 ],
 "metadata": {
  "kernelspec": {
   "display_name": "Python 3",
   "language": "python",
   "name": "python3"
  },
  "language_info": {
   "codemirror_mode": {
    "name": "ipython",
    "version": 3
   },
   "file_extension": ".py",
   "mimetype": "text/x-python",
   "name": "python",
   "nbconvert_exporter": "python",
   "pygments_lexer": "ipython3",
   "version": "3.8.3"
  }
 },
 "nbformat": 4,
 "nbformat_minor": 4
}
